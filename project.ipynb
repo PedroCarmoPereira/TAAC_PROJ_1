{
  "cells": [
    {
      "cell_type": "markdown",
      "metadata": {
        "id": "rHvH4XhYjua2"
      },
      "source": [
        "# Imports & Loading Dataset"
      ]
    },
    {
      "cell_type": "code",
      "execution_count": null,
      "metadata": {
        "id": "o7wxG0T2h1CC"
      },
      "outputs": [],
      "source": [
        "import numpy as np\n",
        "import pandas as pd"
      ]
    },
    {
      "cell_type": "markdown",
      "metadata": {
        "id": "uVSDY1b0j5hJ"
      },
      "source": [
        "## Requirements"
      ]
    },
    {
      "cell_type": "code",
      "execution_count": null,
      "metadata": {
        "colab": {
          "base_uri": "https://localhost:8080/"
        },
        "id": "cHQj7nMHj4f7",
        "outputId": "01188712-1992-4b04-b4ec-834fff574ce4"
      },
      "outputs": [],
      "source": [
        "%pip install transformers evaluate langchain datasets"
      ]
    },
    {
      "cell_type": "markdown",
      "metadata": {
        "id": "LQ-2bZdLj-Wc"
      },
      "source": [
        "## Upload files to collab"
      ]
    },
    {
      "cell_type": "code",
      "execution_count": null,
      "metadata": {
        "id": "Ooh0_9-vj8Ik"
      },
      "outputs": [],
      "source": [
        "from google.colab import files, drive\n",
        "drive.mount('/content/drive/')\n",
        "# data = files.upload()\n",
        "data = pd.read_json('/content/drive/My Drive/dataset.json')"
      ]
    },
    {
      "cell_type": "markdown",
      "metadata": {
        "id": "JXdkfi20pkPV"
      },
      "source": [
        "# Preprocessing"
      ]
    },
    {
      "cell_type": "code",
      "execution_count": null,
      "metadata": {
        "colab": {
          "base_uri": "https://localhost:8080/",
          "height": 556
        },
        "id": "DR1jeHgSpmMW",
        "outputId": "46ab58bd-5e06-4325-fbb6-fc34540802a5"
      },
      "outputs": [],
      "source": [
        "data.head()"
      ]
    },
    {
      "cell_type": "code",
      "execution_count": null,
      "metadata": {
        "colab": {
          "base_uri": "https://localhost:8080/"
        },
        "id": "U1QFxF4Dp6Wy",
        "outputId": "d1e9a0c0-152c-40b4-a493-4cc52e3676c4"
      },
      "outputs": [],
      "source": [
        "print(data.describe())\n",
        "print(data.info())"
      ]
    },
    {
      "cell_type": "code",
      "execution_count": null,
      "metadata": {
        "id": "tbJlVTfQqJfL"
      },
      "outputs": [],
      "source": [
        "def preprocessing(df):\n",
        "  df['review_text'] = df['review_text'].str.lower()"
      ]
    },
    {
      "cell_type": "code",
      "execution_count": null,
      "metadata": {
        "id": "5MjF_YMUqje1"
      },
      "outputs": [],
      "source": [
        "preprocessing(data)\n",
        "data.head()"
      ]
    },
    {
      "cell_type": "code",
      "execution_count": null,
      "metadata": {
        "colab": {
          "base_uri": "https://localhost:8080/"
        },
        "id": "ZAG50-FZM9Eq",
        "outputId": "5ae0ef25-c920-4e91-90ec-e76cc29ec184"
      },
      "outputs": [],
      "source": [
        "data.info()"
      ]
    },
    {
      "cell_type": "markdown",
      "metadata": {
        "id": "q2G3se0Yi-H5"
      },
      "source": [
        "# Zero-shot Shot"
      ]
    },
    {
      "cell_type": "code",
      "execution_count": null,
      "metadata": {
        "id": "CkRJusWdkCPy"
      },
      "outputs": [],
      "source": [
        "#from langchain_huggingface.llms import HuggingFacePipeline\n",
        "\n",
        "import json\n",
        "import random\n",
        "from transformers import pipeline\n",
        "\n",
        "def rate_reviews(data, n_blocks=8, block_size=10000, sample_size=100, output_file='review_ratings.json'):\n",
        "    # Carrega o modelo zero-shot\n",
        "    pipe = pipeline(task=\"zero-shot-classification\", model=\"facebook/bart-large-mnli\")\n",
        "\n",
        "    # Define as labels de classificação\n",
        "    candidate_labels = [\"0 stars\", \"1 stars\", \"2 stars\", \"3 stars\", \"4 stars\", \"5 stars\"]\n",
        "\n",
        "    # Lista para armazenar os resultados\n",
        "    results = []\n",
        "\n",
        "    # Itera sobre cada bloco de 10.000 entradas\n",
        "    for block_num in range(n_blocks):\n",
        "        start_idx = block_num * block_size\n",
        "        end_idx = min((block_num + 1) * block_size, len(data['review_text']))\n",
        "\n",
        "        # Seleciona 100 reviews aleatoriamente do bloco atual\n",
        "        if end_idx > start_idx:\n",
        "            block_reviews = data['review_text'][start_idx:end_idx]\n",
        "            selected_reviews = block_reviews[:sample_size]  # Pegamos as 100 primeiras reviews do bloco\n",
        "\n",
        "            # Processa as 100 reviews selecionadas\n",
        "            for review_text in selected_reviews:\n",
        "                # Cria o prompt para classificação\n",
        "                prompt = \"Your objective is to read user reviews for books and determine the final rating given by the user on a scale of 0 to 5 stars. Being 0 the lowest score and 5 the highest.\"\n",
        "                output = pipe(prompt + review_text, candidate_labels)\n",
        "\n",
        "                # Armazena o resultado (rótulo de maior pontuação) e a review na lista\n",
        "                results.append({\n",
        "                    \"review\": review_text,\n",
        "                    \"rating\": output['labels'][0]\n",
        "                })\n",
        "\n",
        "    # Salva os resultados em um arquivo JSON\n",
        "    with open(output_file, 'w') as f:\n",
        "        json.dump(results, f, indent=4)\n",
        "\n",
        "# Executa a função, processando 100 reviews de cada bloco de 10.000\n",
        "rate_reviews(data, n_blocks=8, block_size=10000, sample_size=1, output_file='review_ratings.json')\n"
      ]
    },
    {
      "cell_type": "code",
      "execution_count": null,
      "metadata": {
        "id": "Ptlb2RVmo5f0"
      },
      "outputs": [],
      "source": [
        "from google.colab import drive\n",
        "drive.mount('/content/drive')"
      ]
    },
    {
      "cell_type": "markdown",
      "metadata": {
        "id": "Uqc38SEaqKY_"
      },
      "source": [
        "# Few Shot"
      ]
    },
    {
      "cell_type": "code",
      "execution_count": null,
      "metadata": {
        "colab": {
          "base_uri": "https://localhost:8080/"
        },
        "id": "BvxqJIU3jDQu",
        "outputId": "20cb70ba-324d-4442-e644-abaea743bde5"
      },
      "outputs": [],
      "source": [
        "\n",
        "from transformers import pipeline\n",
        "\n",
        "model_id = \"facebook/bart-large-mnli\"\n",
        "pipe = pipeline(\"zero-shot-classification\", model=model_id)\n",
        "\n",
        "candidate_labels =[\"0 Stars\", \"1 Stars\", \"2 Stars\", \"3 Stars\", \"4 Stars\", \"5 Stars\"]\n",
        "\n",
        "examples_text = [\n",
        "    data['review_text'][17],\n",
        "    data['review_text'][18],\n",
        "    data['review_text'][19],\n",
        "  ]\n",
        "\n",
        "examples_ratings = [\n",
        "    data['rating'][17],\n",
        "    data['rating'][18],\n",
        "    data['rating'][19],\n",
        "]\n",
        "\n",
        "query = data['review_text'][10]\n",
        "label = data['rating'][10]\n",
        "\n",
        "prompt = \"\"\"Your objective is to read user reviews for books and determine the final rating given by the user on a scale of 1 to 5 stars. Being 0 the lowest score and 5 the highest. First you'll get 3 examples of\n",
        "Text: {review text}\n",
        "Rating: {rating on a scale of 0 to 5}\n",
        "\n",
        "Examples:\n",
        "\"\"\"\n",
        "\n",
        "fo = prompt + \"\\n Text:\" + examples_text[0] + \"\\n Rating:\" + str(examples_ratings[0]) + \"\\n\" + \" Text:\" + examples_text[1] + \"\\n Rating:\" + str(examples_ratings[1]) + \"\\n\" + \" Text:\" + examples_text[2] + \"\\n Rating:\" + str(examples_ratings[2]) + \"\\n\" + \" Text:\" + query\n",
        "\n",
        "\n",
        "\n",
        "output2 = pipe(fo, candidate_labels)\n",
        "\n",
        "\n",
        "print(output2)\n"
      ]
    },
    {
      "cell_type": "code",
      "execution_count": null,
      "metadata": {
        "colab": {
          "base_uri": "https://localhost:8080/",
          "height": 205
        },
        "id": "fHADq3UVjrn-",
        "outputId": "37212738-80d3-4246-be1d-9018f4cdba84"
      },
      "outputs": [],
      "source": [
        "print(query)\n",
        "print(label)\n",
        "data.iloc[10:11]\n"
      ]
    },
    {
      "cell_type": "markdown",
      "metadata": {
        "id": "V6Xe4uYCY1Pe"
      },
      "source": [
        "# Fine-tuning Approach"
      ]
    },
    {
      "cell_type": "markdown",
      "metadata": {
        "id": "eNbKkFH4dqxs"
      },
      "source": [
        "## Sample Dataset"
      ]
    },
    {
      "cell_type": "code",
      "execution_count": null,
      "metadata": {
        "colab": {
          "background_save": true
        },
        "id": "UDYYpgwnrHnG",
        "outputId": "6be061d0-cfae-4049-807e-c2c9025fda73"
      },
      "outputs": [],
      "source": [
        "# Sample & Split Dataset\n",
        "print(len(data)) # 80k\n",
        "\n",
        "data = data[['review_text', 'rating']]\n",
        "\n",
        "\n",
        "sample = data.sample(frac=0.0625) # gives us 5k samples\n",
        "sample.rename(columns={\"review_text\": 'text'}, inplace=True)\n",
        "sample.head()"
      ]
    },
    {
      "cell_type": "markdown",
      "metadata": {
        "id": "yyIbEwpvduo-"
      },
      "source": [
        "## Split Dataset"
      ]
    },
    {
      "cell_type": "code",
      "execution_count": null,
      "metadata": {
        "colab": {
          "background_save": true
        },
        "id": "Q_3skj1_dPbA"
      },
      "outputs": [],
      "source": [
        "from sklearn.model_selection import train_test_split\n",
        "\n",
        "\n",
        "x_train, x_test, y_train, y_test = train_test_split(sample['text'], sample['rating'], test_size=0.3)\n",
        "\n",
        "from datasets import Dataset\n",
        "\n",
        "def to_dataset(x_train, x_test, y_train, y_test):\n",
        "    train_set = Dataset.from_dict({\n",
        "            'text': x_train,\n",
        "            'label': y_train\n",
        "    })\n",
        "\n",
        "    test_set = Dataset.from_dict({\n",
        "            'text': x_test,\n",
        "            'label': y_test\n",
        "    })\n",
        "    return train_set, test_set\n",
        "\n",
        "train_set, test_set = to_dataset(x_train, x_test, y_train, y_test)"
      ]
    },
    {
      "cell_type": "markdown",
      "metadata": {
        "id": "IjKgQmrye16r"
      },
      "source": [
        "## Preprocess"
      ]
    },
    {
      "cell_type": "code",
      "execution_count": null,
      "metadata": {
        "colab": {
          "base_uri": "https://localhost:8080/",
          "height": 263,
          "referenced_widgets": [
            "0c27d18fb32f44269de963e25fb28eb1",
            "e4a00dfe86df4a02a2dbe6d405d2edb6",
            "3c4c1f749be14436ab36e63e2ff6078a",
            "086a3e3830d04c5093a7f59857c9d08f",
            "9826083eeaf841e6ad3a3c247339fa64",
            "f36b9a416aad4b7ba3355e890edf5388"
          ]
        },
        "id": "8tleMH3Wd2Xd",
        "outputId": "d8dcffab-da3a-4d4e-864c-b3c3a9f4b77d"
      },
      "outputs": [],
      "source": [
        "from transformers import AutoTokenizer\n",
        "\n",
        "tokenizer = AutoTokenizer.from_pretrained(\"distilbert/distilbert-base-uncased\")\n",
        "\n",
        "def preprocess_function(examples):\n",
        "    return tokenizer(examples[\"text\"], truncation=True)\n",
        "\n",
        "token_train_data = train_set.map(preprocess_function, batched=True)\n",
        "\n",
        "token_test_data = test_set.map(preprocess_function, batched=True)\n",
        "\n",
        "from transformers import DataCollatorWithPadding\n",
        "\n",
        "data_collator = DataCollatorWithPadding(tokenizer=tokenizer)"
      ]
    },
    {
      "cell_type": "code",
      "execution_count": null,
      "metadata": {
        "colab": {
          "base_uri": "https://localhost:8080/",
          "height": 680,
          "referenced_widgets": [
            "ec48874add4044ddb05f6da8e6d99479"
          ]
        },
        "id": "shPpzW8sftfn",
        "outputId": "aba353be-b2d7-47e5-9bbc-e41b3c2746f1"
      },
      "outputs": [],
      "source": [
        "from transformers import AutoModelForSequenceClassification, TrainingArguments, Trainer\n",
        "\n",
        "model = AutoModelForSequenceClassification.from_pretrained(\n",
        "\n",
        "    \"distilbert/distilbert-base-uncased\", num_labels=6\n",
        ")\n",
        "\n",
        "print(model)"
      ]
    },
    {
      "cell_type": "markdown",
      "metadata": {
        "id": "tnzI1yQhkNyA"
      },
      "source": [
        "### Prepare evaluation"
      ]
    },
    {
      "cell_type": "code",
      "execution_count": null,
      "metadata": {
        "colab": {
          "base_uri": "https://localhost:8080/",
          "height": 49,
          "referenced_widgets": [
            "87eb071455a74b5a8a4a597ab274de47",
            "55f01ab3f35847bd89c2e8970a15867c",
            "323ccda6b71346a0829d3340bce6c462",
            "83b77abc8f864d2ab4d5dc1dc39a3da7",
            "9047311a519a4982a5526a6239d98717",
            "55c8653886274521ad2c6abf1907d732",
            "480ddacb695947338802d6b5307c473b",
            "2074bcab823d42abb81008561b73ae0e",
            "817e6c2bf7b444e1ae9be7ad26e7a98e",
            "192e70df5cb54d31b29faba394edc430",
            "c409b46f4766455fb78f178cb4506e65"
          ]
        },
        "id": "aCxnahWxkRv2",
        "outputId": "1271c821-a0f0-4967-9ae2-9acc2875e9a1"
      },
      "outputs": [],
      "source": [
        "import evaluate\n",
        "\n",
        "accuracy = evaluate.load(\"accuracy\")\n",
        "\n",
        "def compute_metrics(eval_pred):\n",
        "\n",
        "    predictions, labels = eval_pred\n",
        "\n",
        "    predictions = np.argmax(predictions, axis=1)\n",
        "\n",
        "    return accuracy.compute(predictions=predictions, references=labels)\n"
      ]
    },
    {
      "cell_type": "code",
      "execution_count": null,
      "metadata": {
        "colab": {
          "base_uri": "https://localhost:8080/",
          "height": 401
        },
        "id": "I6NwsOLLiss3",
        "outputId": "2669abcc-49ae-409b-c6c5-4105f0f7a154"
      },
      "outputs": [],
      "source": [
        "training_args = TrainingArguments(\n",
        "\n",
        "    output_dir=\"my_awesome_model\",\n",
        "\n",
        "    learning_rate=2e-5,\n",
        "\n",
        "    per_device_train_batch_size=16,\n",
        "\n",
        "    per_device_eval_batch_size=16,\n",
        "\n",
        "    num_train_epochs=2,\n",
        "\n",
        "    weight_decay=0.01,\n",
        "\n",
        "    eval_strategy=\"epoch\",\n",
        "\n",
        "    save_strategy=\"epoch\",\n",
        "\n",
        "    load_best_model_at_end=True\n",
        "\n",
        ")\n",
        "\n",
        "trainer = Trainer(\n",
        "\n",
        "    model=model,\n",
        "\n",
        "    args=training_args,\n",
        "\n",
        "    train_dataset=token_train_data,\n",
        "\n",
        "    eval_dataset=token_test_data,\n",
        "\n",
        "    tokenizer=tokenizer,\n",
        "\n",
        "    data_collator=data_collator,\n",
        "\n",
        "    compute_metrics=compute_metrics,\n",
        "\n",
        ")\n",
        "\n",
        "trainer.train()\n",
        "# Fuck this actually worked.."
      ]
    },
    {
      "cell_type": "code",
      "execution_count": null,
      "metadata": {
        "id": "BF6PtzkNktS_"
      },
      "outputs": [],
      "source": []
    }
  ],
  "metadata": {
    "accelerator": "GPU",
    "colab": {
      "gpuType": "T4",
      "provenance": []
    },
    "kernelspec": {
      "display_name": "Python 3",
      "name": "python3"
    },
    "language_info": {
      "name": "python"
    },
    "widgets": {
      "application/vnd.jupyter.widget-state+json": {
        "192e70df5cb54d31b29faba394edc430": {
          "model_module": "@jupyter-widgets/base",
          "model_module_version": "1.2.0",
          "model_name": "LayoutModel",
          "state": {
            "_model_module": "@jupyter-widgets/base",
            "_model_module_version": "1.2.0",
            "_model_name": "LayoutModel",
            "_view_count": null,
            "_view_module": "@jupyter-widgets/base",
            "_view_module_version": "1.2.0",
            "_view_name": "LayoutView",
            "align_content": null,
            "align_items": null,
            "align_self": null,
            "border": null,
            "bottom": null,
            "display": null,
            "flex": null,
            "flex_flow": null,
            "grid_area": null,
            "grid_auto_columns": null,
            "grid_auto_flow": null,
            "grid_auto_rows": null,
            "grid_column": null,
            "grid_gap": null,
            "grid_row": null,
            "grid_template_areas": null,
            "grid_template_columns": null,
            "grid_template_rows": null,
            "height": null,
            "justify_content": null,
            "justify_items": null,
            "left": null,
            "margin": null,
            "max_height": null,
            "max_width": null,
            "min_height": null,
            "min_width": null,
            "object_fit": null,
            "object_position": null,
            "order": null,
            "overflow": null,
            "overflow_x": null,
            "overflow_y": null,
            "padding": null,
            "right": null,
            "top": null,
            "visibility": null,
            "width": null
          }
        },
        "2074bcab823d42abb81008561b73ae0e": {
          "model_module": "@jupyter-widgets/base",
          "model_module_version": "1.2.0",
          "model_name": "LayoutModel",
          "state": {
            "_model_module": "@jupyter-widgets/base",
            "_model_module_version": "1.2.0",
            "_model_name": "LayoutModel",
            "_view_count": null,
            "_view_module": "@jupyter-widgets/base",
            "_view_module_version": "1.2.0",
            "_view_name": "LayoutView",
            "align_content": null,
            "align_items": null,
            "align_self": null,
            "border": null,
            "bottom": null,
            "display": null,
            "flex": null,
            "flex_flow": null,
            "grid_area": null,
            "grid_auto_columns": null,
            "grid_auto_flow": null,
            "grid_auto_rows": null,
            "grid_column": null,
            "grid_gap": null,
            "grid_row": null,
            "grid_template_areas": null,
            "grid_template_columns": null,
            "grid_template_rows": null,
            "height": null,
            "justify_content": null,
            "justify_items": null,
            "left": null,
            "margin": null,
            "max_height": null,
            "max_width": null,
            "min_height": null,
            "min_width": null,
            "object_fit": null,
            "object_position": null,
            "order": null,
            "overflow": null,
            "overflow_x": null,
            "overflow_y": null,
            "padding": null,
            "right": null,
            "top": null,
            "visibility": null,
            "width": null
          }
        },
        "323ccda6b71346a0829d3340bce6c462": {
          "model_module": "@jupyter-widgets/controls",
          "model_module_version": "1.5.0",
          "model_name": "FloatProgressModel",
          "state": {
            "_dom_classes": [],
            "_model_module": "@jupyter-widgets/controls",
            "_model_module_version": "1.5.0",
            "_model_name": "FloatProgressModel",
            "_view_count": null,
            "_view_module": "@jupyter-widgets/controls",
            "_view_module_version": "1.5.0",
            "_view_name": "ProgressView",
            "bar_style": "success",
            "description": "",
            "description_tooltip": null,
            "layout": "IPY_MODEL_2074bcab823d42abb81008561b73ae0e",
            "max": 4203,
            "min": 0,
            "orientation": "horizontal",
            "style": "IPY_MODEL_817e6c2bf7b444e1ae9be7ad26e7a98e",
            "value": 4203
          }
        },
        "480ddacb695947338802d6b5307c473b": {
          "model_module": "@jupyter-widgets/controls",
          "model_module_version": "1.5.0",
          "model_name": "DescriptionStyleModel",
          "state": {
            "_model_module": "@jupyter-widgets/controls",
            "_model_module_version": "1.5.0",
            "_model_name": "DescriptionStyleModel",
            "_view_count": null,
            "_view_module": "@jupyter-widgets/base",
            "_view_module_version": "1.2.0",
            "_view_name": "StyleView",
            "description_width": ""
          }
        },
        "55c8653886274521ad2c6abf1907d732": {
          "model_module": "@jupyter-widgets/base",
          "model_module_version": "1.2.0",
          "model_name": "LayoutModel",
          "state": {
            "_model_module": "@jupyter-widgets/base",
            "_model_module_version": "1.2.0",
            "_model_name": "LayoutModel",
            "_view_count": null,
            "_view_module": "@jupyter-widgets/base",
            "_view_module_version": "1.2.0",
            "_view_name": "LayoutView",
            "align_content": null,
            "align_items": null,
            "align_self": null,
            "border": null,
            "bottom": null,
            "display": null,
            "flex": null,
            "flex_flow": null,
            "grid_area": null,
            "grid_auto_columns": null,
            "grid_auto_flow": null,
            "grid_auto_rows": null,
            "grid_column": null,
            "grid_gap": null,
            "grid_row": null,
            "grid_template_areas": null,
            "grid_template_columns": null,
            "grid_template_rows": null,
            "height": null,
            "justify_content": null,
            "justify_items": null,
            "left": null,
            "margin": null,
            "max_height": null,
            "max_width": null,
            "min_height": null,
            "min_width": null,
            "object_fit": null,
            "object_position": null,
            "order": null,
            "overflow": null,
            "overflow_x": null,
            "overflow_y": null,
            "padding": null,
            "right": null,
            "top": null,
            "visibility": null,
            "width": null
          }
        },
        "55f01ab3f35847bd89c2e8970a15867c": {
          "model_module": "@jupyter-widgets/controls",
          "model_module_version": "1.5.0",
          "model_name": "HTMLModel",
          "state": {
            "_dom_classes": [],
            "_model_module": "@jupyter-widgets/controls",
            "_model_module_version": "1.5.0",
            "_model_name": "HTMLModel",
            "_view_count": null,
            "_view_module": "@jupyter-widgets/controls",
            "_view_module_version": "1.5.0",
            "_view_name": "HTMLView",
            "description": "",
            "description_tooltip": null,
            "layout": "IPY_MODEL_55c8653886274521ad2c6abf1907d732",
            "placeholder": "​",
            "style": "IPY_MODEL_480ddacb695947338802d6b5307c473b",
            "value": "Downloading builder script: 100%"
          }
        },
        "817e6c2bf7b444e1ae9be7ad26e7a98e": {
          "model_module": "@jupyter-widgets/controls",
          "model_module_version": "1.5.0",
          "model_name": "ProgressStyleModel",
          "state": {
            "_model_module": "@jupyter-widgets/controls",
            "_model_module_version": "1.5.0",
            "_model_name": "ProgressStyleModel",
            "_view_count": null,
            "_view_module": "@jupyter-widgets/base",
            "_view_module_version": "1.2.0",
            "_view_name": "StyleView",
            "bar_color": null,
            "description_width": ""
          }
        },
        "83b77abc8f864d2ab4d5dc1dc39a3da7": {
          "model_module": "@jupyter-widgets/controls",
          "model_module_version": "1.5.0",
          "model_name": "HTMLModel",
          "state": {
            "_dom_classes": [],
            "_model_module": "@jupyter-widgets/controls",
            "_model_module_version": "1.5.0",
            "_model_name": "HTMLModel",
            "_view_count": null,
            "_view_module": "@jupyter-widgets/controls",
            "_view_module_version": "1.5.0",
            "_view_name": "HTMLView",
            "description": "",
            "description_tooltip": null,
            "layout": "IPY_MODEL_192e70df5cb54d31b29faba394edc430",
            "placeholder": "​",
            "style": "IPY_MODEL_c409b46f4766455fb78f178cb4506e65",
            "value": " 4.20k/4.20k [00:00&lt;00:00, 128kB/s]"
          }
        },
        "87eb071455a74b5a8a4a597ab274de47": {
          "model_module": "@jupyter-widgets/controls",
          "model_module_version": "1.5.0",
          "model_name": "HBoxModel",
          "state": {
            "_dom_classes": [],
            "_model_module": "@jupyter-widgets/controls",
            "_model_module_version": "1.5.0",
            "_model_name": "HBoxModel",
            "_view_count": null,
            "_view_module": "@jupyter-widgets/controls",
            "_view_module_version": "1.5.0",
            "_view_name": "HBoxView",
            "box_style": "",
            "children": [
              "IPY_MODEL_55f01ab3f35847bd89c2e8970a15867c",
              "IPY_MODEL_323ccda6b71346a0829d3340bce6c462",
              "IPY_MODEL_83b77abc8f864d2ab4d5dc1dc39a3da7"
            ],
            "layout": "IPY_MODEL_9047311a519a4982a5526a6239d98717"
          }
        },
        "9047311a519a4982a5526a6239d98717": {
          "model_module": "@jupyter-widgets/base",
          "model_module_version": "1.2.0",
          "model_name": "LayoutModel",
          "state": {
            "_model_module": "@jupyter-widgets/base",
            "_model_module_version": "1.2.0",
            "_model_name": "LayoutModel",
            "_view_count": null,
            "_view_module": "@jupyter-widgets/base",
            "_view_module_version": "1.2.0",
            "_view_name": "LayoutView",
            "align_content": null,
            "align_items": null,
            "align_self": null,
            "border": null,
            "bottom": null,
            "display": null,
            "flex": null,
            "flex_flow": null,
            "grid_area": null,
            "grid_auto_columns": null,
            "grid_auto_flow": null,
            "grid_auto_rows": null,
            "grid_column": null,
            "grid_gap": null,
            "grid_row": null,
            "grid_template_areas": null,
            "grid_template_columns": null,
            "grid_template_rows": null,
            "height": null,
            "justify_content": null,
            "justify_items": null,
            "left": null,
            "margin": null,
            "max_height": null,
            "max_width": null,
            "min_height": null,
            "min_width": null,
            "object_fit": null,
            "object_position": null,
            "order": null,
            "overflow": null,
            "overflow_x": null,
            "overflow_y": null,
            "padding": null,
            "right": null,
            "top": null,
            "visibility": null,
            "width": null
          }
        },
        "c409b46f4766455fb78f178cb4506e65": {
          "model_module": "@jupyter-widgets/controls",
          "model_module_version": "1.5.0",
          "model_name": "DescriptionStyleModel",
          "state": {
            "_model_module": "@jupyter-widgets/controls",
            "_model_module_version": "1.5.0",
            "_model_name": "DescriptionStyleModel",
            "_view_count": null,
            "_view_module": "@jupyter-widgets/base",
            "_view_module_version": "1.2.0",
            "_view_name": "StyleView",
            "description_width": ""
          }
        }
      }
    }
  },
  "nbformat": 4,
  "nbformat_minor": 0
}
