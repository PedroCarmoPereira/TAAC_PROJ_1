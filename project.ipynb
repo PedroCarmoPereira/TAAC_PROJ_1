{
  "cells": [
    {
      "cell_type": "markdown",
      "metadata": {
        "id": "rHvH4XhYjua2"
      },
      "source": [
        "# Imports & Loading Dataset"
      ]
    },
    {
      "cell_type": "code",
      "execution_count": 1,
      "metadata": {
        "id": "o7wxG0T2h1CC"
      },
      "outputs": [],
      "source": [
        "import numpy as np\n",
        "import pandas as pd"
      ]
    },
    {
      "cell_type": "markdown",
      "metadata": {
        "id": "uVSDY1b0j5hJ"
      },
      "source": [
        "## Requirements"
      ]
    },
    {
      "cell_type": "code",
      "execution_count": null,
      "metadata": {
        "colab": {
          "base_uri": "https://localhost:8080/"
        },
        "id": "cHQj7nMHj4f7",
        "outputId": "202ec033-c195-49ed-d9d2-9c3fe280be63"
      },
      "outputs": [],
      "source": [
        "%pip install transformers evaluate langchain"
      ]
    },
    {
      "cell_type": "markdown",
      "metadata": {
        "id": "LQ-2bZdLj-Wc"
      },
      "source": [
        "## Upload files to collab"
      ]
    },
    {
      "cell_type": "code",
      "execution_count": null,
      "metadata": {
        "colab": {
          "base_uri": "https://localhost:8080/",
          "height": 1000
        },
        "id": "Ooh0_9-vj8Ik",
        "outputId": "7a2be9ce-be6c-4980-b2d9-e1c0ecbfe1d5"
      },
      "outputs": [],
      "source": [
        "from google.colab import files\n",
        "data = files.upload()"
      ]
    },
    {
      "cell_type": "markdown",
      "metadata": {
        "id": "JXdkfi20pkPV"
      },
      "source": [
        "# Preprocessing"
      ]
    },
    {
      "cell_type": "code",
      "execution_count": 8,
      "metadata": {
        "id": "DR1jeHgSpmMW"
      },
      "outputs": [],
      "source": [
        "# data = pd.read_json('./dataset.json')"
      ]
    },
    {
      "cell_type": "code",
      "execution_count": null,
      "metadata": {
        "colab": {
          "base_uri": "https://localhost:8080/"
        },
        "id": "U1QFxF4Dp6Wy",
        "outputId": "fe6bc627-174e-4db7-c531-9103c90acfd9"
      },
      "outputs": [],
      "source": [
        "print(data.describe())\n",
        "print(data.info())"
      ]
    },
    {
      "cell_type": "code",
      "execution_count": 10,
      "metadata": {
        "id": "tbJlVTfQqJfL"
      },
      "outputs": [],
      "source": [
        "def preprocessing(df):\n",
        "  df['review_text'] = df['review_text'].str.lower()"
      ]
    },
    {
      "cell_type": "code",
      "execution_count": null,
      "metadata": {
        "colab": {
          "base_uri": "https://localhost:8080/",
          "height": 513
        },
        "id": "5MjF_YMUqje1",
        "outputId": "fc66a247-7ad0-4a14-b657-71b6adc4c1f1"
      },
      "outputs": [],
      "source": [
        "preprocessing(data)\n",
        "data.head()"
      ]
    },
    {
      "cell_type": "code",
      "execution_count": null,
      "metadata": {
        "id": "CkRJusWdkCPy"
      },
      "outputs": [],
      "source": [
        "from langchain_huggingface.llms import HuggingFacePipeline\n",
        "\n",
        "from transformers import AlbertForSequenceClassification, AlbertTokenizer, pipeline\n",
        "\n",
        "model_id = \"albert-base-v2\"\n",
        "tokenizer = AlbertTokenizer.from_pretrained(model_id)\n",
        "model = AlbertForSequenceClassification.from_pretrained(model_id, num_labels=5)\n",
        "\n",
        "pipe = pipeline(\"text-classification\", model=model, tokenizer=tokenizer)\n",
        "\n",
        "prompt = \"Your objective is to read user reviews for books and determine the final rating given by the user on a scale of 1 to 5 stars. Being 1 the lowest score and 5 the highest.\""
      ]
    }
  ],
  "metadata": {
    "accelerator": "GPU",
    "colab": {
      "gpuType": "T4",
      "provenance": []
    },
    "kernelspec": {
      "display_name": "Python 3",
      "name": "python3"
    },
    "language_info": {
      "name": "python"
    }
  },
  "nbformat": 4,
  "nbformat_minor": 0
}
